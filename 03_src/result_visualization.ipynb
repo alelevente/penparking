{
 "cells": [
  {
   "cell_type": "markdown",
   "id": "7b78de53-f832-44c1-9472-5f79317a4ac9",
   "metadata": {},
   "source": [
    "# **Visualization of different results**"
   ]
  },
  {
   "cell_type": "code",
   "execution_count": null,
   "id": "d950c355-30f6-429d-8240-221c537a6d9e",
   "metadata": {},
   "outputs": [],
   "source": [
    "import json\n",
    "\n",
    "import numpy as np\n",
    "import pandas as pd\n",
    "\n",
    "import matplotlib.pyplot as plt\n",
    "import seaborn as sns"
   ]
  },
  {
   "cell_type": "code",
   "execution_count": null,
   "id": "6e5e2754-5a20-4532-ad3d-e893635d46ae",
   "metadata": {},
   "outputs": [],
   "source": [
    "MEAS_ROOT = \"../02_data/\"\n",
    "SEEDS = [42, 1812, 9698, 424, 820, 75, 98, 65535, 16383, 513]\n",
    "#PENS = [1, 2, 3, 4, 5, 6, 7, 8, 9]\n",
    "PENS = [2, 4, 6, 8]\n",
    "EPSILON = 10"
   ]
  },
  {
   "cell_type": "code",
   "execution_count": null,
   "id": "a5d6faef-ed55-48ea-b5e9-28f4db6bddaf",
   "metadata": {},
   "outputs": [],
   "source": [
    "EUR_HUF = 411.43 #2024-11-24"
   ]
  },
  {
   "cell_type": "code",
   "execution_count": null,
   "id": "54c0c521-8410-449a-9ef7-06703c56bfc1",
   "metadata": {},
   "outputs": [],
   "source": [
    "def read_data(seed, meas_path, col_name, col_value):\n",
    "    with open(f\"{meas_path}/veh_results.json\") as f:\n",
    "        veh_res = json.load(f)\n",
    "    veh_data = pd.DataFrame.from_dict(veh_res, orient=\"index\")\n",
    "    veh_data.index = veh_data.index.astype(int)\n",
    "    \n",
    "    trip_df = pd.read_xml(f\"{meas_path}/vehicle_trips.xml\", xpath = \"tripinfo\")\n",
    "    trip_df[\"id\"] = trip_df[\"id\"].astype(int)\n",
    "    \n",
    "    vd = pd.merge(left=trip_df, right=veh_data, left_on=\"id\", right_index=True)\n",
    "    \n",
    "    vd[col_name] = [col_value]*len(vd)\n",
    "    \n",
    "    return vd"
   ]
  },
  {
   "cell_type": "code",
   "execution_count": null,
   "id": "30965ce7-b8d8-4f96-85ee-794dd818cba7",
   "metadata": {},
   "outputs": [],
   "source": [
    "#read MSE data:\n",
    "\n",
    "mse_df = pd.DataFrame()\n",
    "\n",
    "for seed in SEEDS:\n",
    "    mse_df = pd.concat([mse_df,\n",
    "                            read_data(seed, f\"{MEAS_ROOT}/ideal{seed}/\", \"mse\", 0)\n",
    "                           ], ignore_index=True)\n",
    "    \n",
    "for mse in MSES:\n",
    "    for seed in SEEDS:\n",
    "        mse_df = pd.concat([mse_df,\n",
    "                                read_data(seed, f\"{MEAS_ROOT}/mse{mse}:{seed}/\", \"mse\", mse)\n",
    "                               ], ignore_index=True)\n",
    "        \n",
    "#MSE -> accuracy:\n",
    "mse_df[\"mse\"] = np.round((1 - np.sqrt(mse_df[\"mse\"]/225))*100, decimals=2)\n",
    "        \n",
    "for seed in SEEDS:\n",
    "    mse_df = pd.concat([mse_df,\n",
    "                            read_data(seed, f\"{MEAS_ROOT}/baseline{seed}/\", \"mse\", \"unc.\")\n",
    "                           ], ignore_index=True)"
   ]
  },
  {
   "cell_type": "code",
   "execution_count": null,
   "id": "edad04e2-4b8e-4d0b-9200-02ae1bd8d02e",
   "metadata": {},
   "outputs": [],
   "source": [
    "mse_df[\"prolonged_distance\"] = mse_df[\"routeLength\"]-mse_df[\"original_distance\"]\n",
    "\n",
    "mse_df[\"paid_price\"] = mse_df[\"paid_price\"]/EUR_HUF\n",
    "mse_df[\"auction_price\"] = mse_df[\"auction_price\"]/EUR_HUF"
   ]
  },
  {
   "cell_type": "code",
   "execution_count": null,
   "id": "abe19009-1e11-467f-ba36-15b4eea9850d",
   "metadata": {},
   "outputs": [],
   "source": [
    "values = []\n",
    "value_types = []\n",
    "mses = []\n",
    "controlled = []\n",
    "occup_reserved = []\n",
    "\n",
    "for _,r in mse_df.iterrows():\n",
    "    values.append(r[\"rerouteNo\"])\n",
    "    value_types.append(\"n_reroutes\")\n",
    "    controlled.append(r[\"controlled\"])\n",
    "    mses.append(r[\"mse\"])\n",
    "    occup_reserved.append(r[\"occupied_reserved\"])\n",
    "    \n",
    "    values.append(r[\"routeLength\"])\n",
    "    value_types.append(\"distance\")\n",
    "    controlled.append(r[\"controlled\"])\n",
    "    mses.append(r[\"mse\"])\n",
    "    occup_reserved.append(r[\"occupied_reserved\"])\n",
    "    \n",
    "    values.append(r[\"prolonged_distance\"])\n",
    "    value_types.append(\"prolonged_distance\")\n",
    "    controlled.append(r[\"controlled\"])\n",
    "    mses.append(r[\"mse\"])\n",
    "    occup_reserved.append(r[\"occupied_reserved\"])\n",
    "    \n",
    "    values.append(r[\"parking_distance\"])\n",
    "    value_types.append(\"parking_distance\")\n",
    "    controlled.append(r[\"controlled\"])\n",
    "    mses.append(r[\"mse\"])\n",
    "    occup_reserved.append(r[\"occupied_reserved\"])\n",
    "    \n",
    "    values.append(r[\"paid_price\"])\n",
    "    value_types.append(\"paid_price\")\n",
    "    controlled.append(r[\"controlled\"])\n",
    "    mses.append(r[\"mse\"])\n",
    "    occup_reserved.append(r[\"occupied_reserved\"])\n",
    "    \n",
    "    values.append(r[\"auction_price\"])\n",
    "    value_types.append(\"auction_price\")\n",
    "    controlled.append(r[\"controlled\"])\n",
    "    mses.append(r[\"mse\"])\n",
    "    occup_reserved.append(r[\"occupied_reserved\"])\n",
    "    \n",
    "    values.append(r[\"occupied_reserved\"])\n",
    "    value_types.append(\"occupied_reserved\")\n",
    "    controlled.append(r[\"controlled\"])\n",
    "    mses.append(r[\"mse\"])\n",
    "    occup_reserved.append(r[\"occupied_reserved\"])\n",
    "    \n",
    "    \n",
    "long_df = pd.DataFrame()\n",
    "long_df[\"values\"] = values\n",
    "long_df[\"value_types\"] = value_types\n",
    "long_df[\"controlled\"] = controlled\n",
    "long_df[\"occupied_reserved\"] = occup_reserved\n",
    "\n",
    "#for i in range(len(mses)):\n",
    "#    if (type(mses[i]) is int) or (mses[i].isnumeric()):\n",
    "#        mses[i] = f\"$\\\\frac{{{mses[i]}}}{{225}}$\"\n",
    "\n",
    "long_df[\"MSE\"] = mses"
   ]
  },
  {
   "cell_type": "markdown",
   "id": "995b4720-4131-4a0e-8ee0-bd4835d8bc68",
   "metadata": {},
   "source": [
    "### **Reroutes**"
   ]
  },
  {
   "cell_type": "code",
   "execution_count": null,
   "id": "e2b41722-050e-4297-8051-bbeadff702df",
   "metadata": {},
   "outputs": [],
   "source": [
    "fig, ax = plt.subplots(figsize=(9,3))\n",
    "coord_df = long_df[long_df[\"MSE\"] != \"unc.\"]\n",
    "sns.boxplot(coord_df[coord_df[\"value_types\"] == \"n_reroutes\"], x=\"MSE\", y=\"values\", \n",
    "           width=0.3, gap=0.2, whis=[5, 95], color=\"skyblue\",\n",
    "           fliersize=2.0, flierprops={\"alpha\": 0.2},\n",
    "           medianprops={\"linewidth\":3})\n",
    "uncoord_df = long_df[long_df[\"MSE\"] == \"unc.\"]\n",
    "sns.boxplot(uncoord_df[uncoord_df[\"value_types\"] == \"n_reroutes\"], x=\"MSE\", y=\"values\", \n",
    "           width=.3, gap=.2, whis=[5, 95], color=\"lightpink\",\n",
    "           fliersize=2.0, flierprops={\"alpha\": 0.2},\n",
    "           medianprops={\"linewidth\":3})\n",
    "ax.set_ylabel(\"#reroutes\")\n",
    "ax.set_xlabel(\"accuracy [%]\")"
   ]
  },
  {
   "cell_type": "markdown",
   "id": "f83dbff9-f226-4157-8b06-05624e39c9f9",
   "metadata": {},
   "source": [
    "### **Distance**"
   ]
  },
  {
   "cell_type": "code",
   "execution_count": null,
   "id": "a1d3cada-2526-429e-9540-20ec6b12b606",
   "metadata": {},
   "outputs": [],
   "source": [
    "fig, ax = plt.subplots(figsize=(6,3))\n",
    "coord_df = long_df[long_df[\"MSE\"] != \"unc.\"]\n",
    "sns.boxplot(coord_df[coord_df[\"value_types\"] == \"prolonged_distance\"], x=\"MSE\", y=\"values\", \n",
    "           width=0.3, gap=0.2, whis=[1, 99], color=\"skyblue\",\n",
    "           fliersize=2.0, flierprops={\"alpha\": 0.2},\n",
    "           medianprops={\"linewidth\":3})\n",
    "uncoord_df = long_df[long_df[\"MSE\"] == \"unc.\"]\n",
    "sns.boxplot(uncoord_df[uncoord_df[\"value_types\"] == \"prolonged_distance\"], x=\"MSE\", y=\"values\", \n",
    "           width=.3, gap=.2, whis=[1, 99], color=\"lightpink\",\n",
    "           fliersize=2.0, flierprops={\"alpha\": 0.2},\n",
    "           medianprops={\"linewidth\":3})\n",
    "ax.set_ylabel(\"prolonged distance [m]\")"
   ]
  },
  {
   "cell_type": "code",
   "execution_count": null,
   "id": "79d871bc-07e9-4d01-915e-676de17bfd32",
   "metadata": {},
   "outputs": [],
   "source": [
    "fig, ax = plt.subplots(figsize=(9,3))\n",
    "coord_df = long_df[long_df[\"MSE\"] != \"unc.\"]\n",
    "sns.boxplot(coord_df[coord_df[\"value_types\"] == \"parking_distance\"], x=\"MSE\", y=\"values\", \n",
    "           width=0.3, gap=0.2, whis=[5, 95], color=\"skyblue\",\n",
    "           fliersize=2.0, flierprops={\"alpha\": 0.2},\n",
    "           medianprops={\"linewidth\":3})\n",
    "uncoord_df = long_df[long_df[\"MSE\"] == \"unc.\"]\n",
    "sns.boxplot(uncoord_df[uncoord_df[\"value_types\"] == \"parking_distance\"], x=\"MSE\", y=\"values\", \n",
    "           width=.3, gap=.2, whis=[5, 95], color=\"lightpink\",\n",
    "           fliersize=2.0, flierprops={\"alpha\": 0.2},\n",
    "           medianprops={\"linewidth\":3})\n",
    "ax.set_ylabel(\"parking distance [m]\")\n",
    "ax.set_xlabel(\"accuracy [%]\")"
   ]
  },
  {
   "cell_type": "markdown",
   "id": "e88ef5cb-4263-424a-bb81-da4c75ceacc0",
   "metadata": {},
   "source": [
    "### **Prices**"
   ]
  },
  {
   "cell_type": "code",
   "execution_count": null,
   "id": "8cdd232d-0cf0-4568-90e2-724db3046e21",
   "metadata": {},
   "outputs": [],
   "source": [
    "fig, ax = plt.subplots(figsize=(5,3))\n",
    "coord_df = long_df[long_df[\"MSE\"] != \"unc.\"]\n",
    "sns.boxplot(coord_df[coord_df[\"value_types\"] == \"paid_price\"], x=\"MSE\", y=\"values\", \n",
    "           width=0.3, gap=0.2, whis=[5, 95], color=\"skyblue\",\n",
    "           fliersize=2.0, flierprops={\"alpha\": 0.2},\n",
    "           medianprops={\"linewidth\":3})\n",
    "uncoord_df = long_df[long_df[\"MSE\"] == \"unc.\"]\n",
    "sns.boxplot(uncoord_df[uncoord_df[\"value_types\"] == \"paid_price\"], x=\"MSE\", y=\"values\", \n",
    "           width=.3, gap=.2, whis=[5, 95], color=\"lightpink\",\n",
    "           fliersize=2.0, flierprops={\"alpha\": 0.2},\n",
    "           medianprops={\"linewidth\":3})\n",
    "ax.set_ylabel(\"paid hourly price [€/h]\")\n",
    "ax.set_ylim(0, 1.35)\n",
    "ax.set_xlabel(\"accuracy [%]\")"
   ]
  },
  {
   "cell_type": "markdown",
   "id": "fb5c1159-f5f7-4f47-859d-d87f309c6a49",
   "metadata": {},
   "source": [
    "### **Statistics**"
   ]
  },
  {
   "cell_type": "code",
   "execution_count": null,
   "id": "faf531ed-94e6-49d1-acb3-53756ed6c209",
   "metadata": {},
   "outputs": [],
   "source": [
    "fig, ax = plt.subplots(figsize=(9,3))\n",
    "coord_df = long_df[long_df[\"controlled\"]]\n",
    "sns.boxplot(coord_df[coord_df[\"value_types\"] == \"occupied_reserved\"], x=\"MSE\", y=\"values\", \n",
    "           width=0.3, gap=0.2, whis=[5, 95], color=\"skyblue\",\n",
    "           fliersize=2.0, flierprops={\"alpha\": 0.2},\n",
    "           medianprops={\"linewidth\":3})\n",
    "ax.set_ylabel(\"successful reservation\")\n",
    "ax.set_xlabel(\"accuracy [%]\")"
   ]
  },
  {
   "cell_type": "code",
   "execution_count": null,
   "id": "f175f69e-90d4-415b-81e4-32077c879700",
   "metadata": {},
   "outputs": [],
   "source": [
    "fig, ax = plt.subplots(figsize=(5,3))\n",
    "coord_df = long_df[long_df[\"controlled\"]]\n",
    "sns.boxplot(coord_df[coord_df[\"value_types\"] == \"auction_price\"], x=\"MSE\", y=\"values\", \n",
    "           width=0.3, gap=0.2, whis=[5, 95], color=\"skyblue\",\n",
    "           fliersize=2.0, flierprops={\"alpha\": 0.2},\n",
    "           medianprops={\"linewidth\":3})\n",
    "ax.set_ylabel(\"auctioned hourly price [€/h]\")\n",
    "ax.set_ylim(0, 1.35)\n",
    "ax.set_xlabel(\"accuracy [%]\")"
   ]
  },
  {
   "cell_type": "code",
   "execution_count": null,
   "id": "370a69fd-452c-439d-bcb3-39eb1abc16b8",
   "metadata": {},
   "outputs": [],
   "source": [
    "suc_res_df = mse_df[mse_df[\"controlled\"]]\n",
    "succ_rates_mse = {}\n",
    "ticks = []\n",
    "for mse in [0] + MSES:\n",
    "    ticks.append(f\"$\\\\frac{{{mse}}}{{225}}$\")\n",
    "    suc_mse = suc_res_df[suc_res_df[\"mse\"] == mse]\n",
    "    occ_succ = suc_mse[suc_mse[\"occupied_reserved\"]]\n",
    "    succ_rates_mse[mse] = len(occ_succ)/len(suc_mse)\n",
    "    \n",
    "succ_rates_mse"
   ]
  },
  {
   "cell_type": "code",
   "execution_count": null,
   "id": "4a434715-1741-422d-ac16-b4f0fe85cd2a",
   "metadata": {},
   "outputs": [],
   "source": [
    "fig, ax = plt.subplots(figsize=(9,3))\n",
    "ax.plot(succ_rates_mse.keys(), succ_rates_mse.values())\n",
    "ax.scatter(succ_rates_mse.keys(), succ_rates_mse.values())\n",
    "ax.set_xticks(list(succ_rates_mse.keys()), ticks)\n",
    "#ax.set_xticklabels([f\"$\\\\frac{{{i*5}}}{{225}}$\" for i in range(0,6)])\n",
    "ax.set_xlabel(\"MSE\")\n",
    "ax.set_ylabel(\"auction success rates\")\n",
    "ax.set_ylim(0, 1.05)"
   ]
  },
  {
   "cell_type": "code",
   "execution_count": null,
   "id": "0db12fab-90f4-4f55-94d1-3d9834b07c3d",
   "metadata": {},
   "outputs": [],
   "source": [
    "#read penetration data:\n",
    "\n",
    "penetration_df = pd.DataFrame()\n",
    "\n",
    "for seed in SEEDS:\n",
    "    penetration_df = pd.concat([penetration_df,\n",
    "                            read_data(seed, f\"{MEAS_ROOT}/ideal{seed}/\", \"penetration\", \"100%\")\n",
    "                           ], ignore_index=True)\n",
    "    \n",
    "for seed in SEEDS:\n",
    "    penetration_df = pd.concat([penetration_df,\n",
    "                            read_data(seed, f\"{MEAS_ROOT}/baseline{seed}/\", \"penetration\", \"0%\")\n",
    "                           ], ignore_index=True)\n",
    "    \n",
    "for pen in PENS:\n",
    "    for seed in SEEDS:\n",
    "        penetration_df = pd.concat([penetration_df,\n",
    "                                read_data(seed, f\"{MEAS_ROOT}/pen{pen}:{seed}/\", \"penetration\", f\"{pen*10}%\")\n",
    "                               ], ignore_index=True)"
   ]
  },
  {
   "cell_type": "code",
   "execution_count": null,
   "id": "6d95b9e8-90d0-4490-851b-8c5bbf460f10",
   "metadata": {},
   "outputs": [],
   "source": [
    "penetration_df[\"prolonged_distance\"] = penetration_df[\"routeLength\"] - penetration_df[\"original_distance\"]\n",
    "\n",
    "penetration_df[\"paid_price\"] = penetration_df[\"paid_price\"]/EUR_HUF\n",
    "penetration_df[\"auction_price\"] = penetration_df[\"auction_price\"]/EUR_HUF"
   ]
  },
  {
   "cell_type": "code",
   "execution_count": null,
   "id": "1df7e90d-85d1-414c-b0c2-a8d0902ff919",
   "metadata": {},
   "outputs": [],
   "source": [
    "values = []\n",
    "value_types = []\n",
    "pens = []\n",
    "controlled = []\n",
    "\n",
    "for _,r in penetration_df.iterrows():\n",
    "    values.append(r[\"rerouteNo\"])\n",
    "    value_types.append(\"n_reroutes\")\n",
    "    controlled.append(r[\"controlled\"])\n",
    "    pens.append(r[\"penetration\"])\n",
    "    \n",
    "    values.append(r[\"routeLength\"])\n",
    "    value_types.append(\"distance\")\n",
    "    controlled.append(r[\"controlled\"])\n",
    "    pens.append(r[\"penetration\"])\n",
    "    \n",
    "    values.append(r[\"prolonged_distance\"])\n",
    "    value_types.append(\"prolonged_distance\")\n",
    "    controlled.append(r[\"controlled\"])\n",
    "    pens.append(r[\"penetration\"])\n",
    "    \n",
    "    values.append(r[\"parking_distance\"])\n",
    "    value_types.append(\"parking_distance\")\n",
    "    controlled.append(r[\"controlled\"])\n",
    "    pens.append(r[\"penetration\"])\n",
    "    \n",
    "    values.append(r[\"paid_price\"])\n",
    "    value_types.append(\"paid_price\")\n",
    "    controlled.append(r[\"controlled\"])\n",
    "    pens.append(r[\"penetration\"])\n",
    "    \n",
    "    values.append(r[\"auction_price\"])\n",
    "    value_types.append(\"auction_price\")\n",
    "    controlled.append(r[\"controlled\"])\n",
    "    pens.append(r[\"penetration\"])\n",
    "    \n",
    "    values.append(r[\"occupied_reserved\"])\n",
    "    value_types.append(\"occupied_reserved\")\n",
    "    controlled.append(r[\"controlled\"])\n",
    "    pens.append(r[\"penetration\"])\n",
    "    \n",
    "long_df = pd.DataFrame()\n",
    "long_df[\"values\"] = values\n",
    "long_df[\"value_types\"] = value_types\n",
    "long_df[\"controlled\"] = controlled\n",
    "long_df[\"penetration\"] = pens"
   ]
  },
  {
   "cell_type": "markdown",
   "id": "8116ab92-f794-4f34-bad8-03d5f3bbe3f8",
   "metadata": {},
   "source": [
    "### **Reroutes**"
   ]
  },
  {
   "cell_type": "code",
   "execution_count": null,
   "id": "84259d49-61f5-4d4d-ab0a-067fafa9364c",
   "metadata": {},
   "outputs": [],
   "source": [
    "[f\"{x}%\" for x in range(0, 100, 20)]"
   ]
  },
  {
   "cell_type": "code",
   "execution_count": null,
   "id": "314c7328-95f2-4b23-838d-99a99cb95dee",
   "metadata": {},
   "outputs": [],
   "source": [
    "fig, ax = plt.subplots(1,3, figsize=(12,3))\n",
    "Y_MIN, Y_MAX = -0.2, 10\n",
    "\n",
    "uncoord_df = long_df[long_df[\"penetration\"] == \"0%\"]\n",
    "sns.boxplot(uncoord_df[uncoord_df[\"value_types\"] == \"n_reroutes\"], x=\"penetration\", y=\"values\",\n",
    "           width=.3, gap=.2, whis=[5, 95], color=\"lightpink\",\n",
    "           fliersize=2.0, flierprops={\"alpha\": 0.2},\n",
    "           medianprops={\"linewidth\":3}, ax=ax[0])\n",
    "coord_df = long_df[long_df[\"penetration\"] != \"0%\"]\n",
    "sns.boxplot(coord_df[coord_df[\"value_types\"] == \"n_reroutes\"], x=\"penetration\", y=\"values\", order=[f\"{x+20}%\" for x in range(0, 100, 20)],\n",
    "           width=0.3, gap=0.2, whis=[5, 95], color=\"skyblue\",\n",
    "           fliersize=2.0, flierprops={\"alpha\": 0.2},\n",
    "           medianprops={\"linewidth\":3}, ax=ax[0])\n",
    "ax[0].set_ylabel(\"#reroutes\")\n",
    "ax[0].set_title(\"all vehicles\")\n",
    "ax[0].tick_params(labelrotation=90)\n",
    "\n",
    "coord_df = long_df[long_df[\"controlled\"]]\n",
    "coord_df = coord_df[coord_df[\"penetration\"] != \"0%\"]\n",
    "sns.boxplot(coord_df[coord_df[\"value_types\"] == \"n_reroutes\"], x=\"penetration\", y=\"values\", order=[f\"{x+20}%\" for x in range(0, 100, 20)],\n",
    "           width=0.3, gap=0.2, whis=[5, 95], color=\"skyblue\",\n",
    "           fliersize=2.0, flierprops={\"alpha\": 0.2},\n",
    "           medianprops={\"linewidth\":3}, ax=ax[1])\n",
    "ax[1].set_ylabel(\"\")\n",
    "ax[1].set_title(\"participating vehicles\")\n",
    "ax[1].tick_params(labelrotation=90)\n",
    "\n",
    "coord_df = long_df[~long_df[\"controlled\"]]\n",
    "uncoord_df = long_df[long_df[\"penetration\"] == \"0%\"]\n",
    "sns.boxplot(uncoord_df[uncoord_df[\"value_types\"] == \"n_reroutes\"], x=\"penetration\", y=\"values\",\n",
    "           width=.3, gap=.2, whis=[5, 95], color=\"lightpink\",\n",
    "           fliersize=2.0, flierprops={\"alpha\": 0.2},\n",
    "           medianprops={\"linewidth\":3}, ax=ax[2])\n",
    "coord_df = coord_df[coord_df[\"penetration\"] != \"0%\"]\n",
    "sns.boxplot(coord_df[coord_df[\"value_types\"] == \"n_reroutes\"], x=\"penetration\", y=\"values\", order=[f\"{x+20}%\" for x in range(0, 80, 20)],\n",
    "           width=0.3, gap=0.2, whis=[5, 95], color=\"skyblue\",\n",
    "           fliersize=2.0, flierprops={\"alpha\": 0.2},\n",
    "           medianprops={\"linewidth\":3}, ax=ax[2])\n",
    "ax[2].set_ylabel(\"\")\n",
    "ax[2].set_title(\"not participating vehicles\")\n",
    "ax[2].tick_params(labelrotation=90)\n",
    "\n",
    "for axis in range(3):\n",
    "    ax[axis].set_ylim(Y_MIN, Y_MAX)"
   ]
  },
  {
   "cell_type": "code",
   "execution_count": null,
   "id": "f090147a-a184-481f-8f10-3db9ecb0af57",
   "metadata": {},
   "outputs": [],
   "source": [
    "fig, ax = plt.subplots(1,3, figsize=(12,3))\n",
    "Y_MIN, Y_MAX = -50, 1300\n",
    "Y_TICKS = [0, 250, 500, 750, 1000, 1250]\n",
    "\n",
    "uncoord_df = long_df[long_df[\"penetration\"] == \"0%\"]\n",
    "sns.boxplot(uncoord_df[uncoord_df[\"value_types\"] == \"parking_distance\"], x=\"penetration\", y=\"values\",\n",
    "           width=.3, gap=.2, whis=[5, 95], color=\"lightpink\",\n",
    "           fliersize=2.0, flierprops={\"alpha\": 0.2},\n",
    "           medianprops={\"linewidth\":3}, ax=ax[0])\n",
    "coord_df = long_df[long_df[\"penetration\"] != \"0%\"]\n",
    "sns.boxplot(coord_df[coord_df[\"value_types\"] == \"parking_distance\"], x=\"penetration\", y=\"values\", order=[f\"{x+20}%\" for x in range(0, 100, 20)],\n",
    "           width=0.3, gap=0.2, whis=[5, 95], color=\"skyblue\",\n",
    "           fliersize=2.0, flierprops={\"alpha\": 0.2},\n",
    "           medianprops={\"linewidth\":3}, ax=ax[0])\n",
    "ax[0].set_ylabel(\"parking distance [m]\")\n",
    "ax[0].set_title(\"all vehicles\")\n",
    "ax[0].tick_params(labelrotation=90)\n",
    "\n",
    "coord_df = long_df[long_df[\"controlled\"]]\n",
    "coord_df = coord_df[coord_df[\"penetration\"] != \"0%\"]\n",
    "sns.boxplot(coord_df[coord_df[\"value_types\"] == \"parking_distance\"], x=\"penetration\", y=\"values\", order=[f\"{x+20}%\" for x in range(0, 100, 20)],\n",
    "           width=0.3, gap=0.2, whis=[5, 95], color=\"skyblue\",\n",
    "           fliersize=2.0, flierprops={\"alpha\": 0.2},\n",
    "           medianprops={\"linewidth\":3}, ax=ax[1])\n",
    "ax[1].set_ylabel(\"\")\n",
    "ax[1].set_title(\"participating vehicles\")\n",
    "ax[1].tick_params(labelrotation=90)\n",
    "\n",
    "coord_df = long_df[~long_df[\"controlled\"]]\n",
    "uncoord_df = long_df[long_df[\"penetration\"] == \"0%\"]\n",
    "sns.boxplot(uncoord_df[uncoord_df[\"value_types\"] == \"parking_distance\"], x=\"penetration\", y=\"values\",\n",
    "           width=.3, gap=.2, whis=[5, 95], color=\"lightpink\",\n",
    "           fliersize=2.0, flierprops={\"alpha\": 0.2},\n",
    "           medianprops={\"linewidth\":3}, ax=ax[2])\n",
    "coord_df = coord_df[coord_df[\"penetration\"] != \"0%\"]\n",
    "sns.boxplot(coord_df[coord_df[\"value_types\"] == \"parking_distance\"], x=\"penetration\", y=\"values\", order=[f\"{x+20}%\" for x in range(0, 80, 20)],\n",
    "           width=0.3, gap=0.2, whis=[5, 95], color=\"skyblue\",\n",
    "           fliersize=2.0, flierprops={\"alpha\": 0.2},\n",
    "           medianprops={\"linewidth\":3}, ax=ax[2])\n",
    "ax[2].set_ylabel(\"\")\n",
    "ax[2].set_title(\"not participating vehicles\")\n",
    "ax[2].tick_params(labelrotation=90)\n",
    "\n",
    "for axis in range(3):\n",
    "    ax[axis].set_ylim(Y_MIN, Y_MAX)\n",
    "    ax[axis].set_yticks(Y_TICKS)"
   ]
  },
  {
   "cell_type": "code",
   "execution_count": null,
   "id": "0806cff9-d37d-4e7b-aa10-3905c8fa1a55",
   "metadata": {},
   "outputs": [],
   "source": [
    "fig, ax = plt.subplots(figsize=(6,3))\n",
    "coord_df = long_df[long_df[\"controlled\"]]\n",
    "sns.boxplot(coord_df[coord_df[\"value_types\"] == \"occupied_reserved\"], x=\"penetration\", y=\"values\", order=[f\"{x+20}%\" for x in range(0, 100, 20)],\n",
    "           width=0.3, gap=0.2, whis=[5, 95], color=\"skyblue\",\n",
    "           fliersize=2.0, flierprops={\"alpha\": 0.2},\n",
    "           medianprops={\"linewidth\":3})\n",
    "ax.set_ylabel(\"successful reservation ratio\")"
   ]
  },
  {
   "cell_type": "code",
   "execution_count": null,
   "id": "1661d42f-ba93-43d4-8758-cfa6dad0bcd1",
   "metadata": {},
   "outputs": [],
   "source": [
    "fig, ax = plt.subplots(figsize=(6,3))\n",
    "coord_df = long_df[long_df[\"controlled\"]]\n",
    "sns.boxplot(coord_df[coord_df[\"value_types\"] == \"auction_price\"], x=\"penetration\", y=\"values\", order=[f\"{x+20}%\" for x in range(0, 100, 20)],\n",
    "           width=0.3, gap=0.2, whis=[5, 95], color=\"skyblue\",\n",
    "           fliersize=2.0, flierprops={\"alpha\": 0.2},\n",
    "           medianprops={\"linewidth\":3})\n",
    "ax.set_ylabel(\"auctioned price [€]\")"
   ]
  },
  {
   "cell_type": "code",
   "execution_count": null,
   "id": "f6ff52b8-2b75-432e-9c1d-e1f60b815fee",
   "metadata": {},
   "outputs": [],
   "source": [
    "fig, ax = plt.subplots(1,3, figsize=(12,3))\n",
    "Y_MIN, Y_MAX = 0, 1.25\n",
    "\n",
    "uncoord_df = long_df[long_df[\"penetration\"] == \"0%\"]\n",
    "sns.boxplot(uncoord_df[uncoord_df[\"value_types\"] == \"paid_price\"], x=\"penetration\", y=\"values\",\n",
    "           width=.3, gap=.2, whis=[5, 95], color=\"lightpink\",\n",
    "           fliersize=2.0, flierprops={\"alpha\": 0.2},\n",
    "           medianprops={\"linewidth\":3}, ax=ax[0])\n",
    "coord_df = long_df[long_df[\"penetration\"] != \"0%\"]\n",
    "sns.boxplot(coord_df[coord_df[\"value_types\"] == \"paid_price\"], x=\"penetration\", y=\"values\", order=[f\"{x+20}%\" for x in range(0, 100, 20)],\n",
    "           width=0.3, gap=0.2, whis=[5, 95], color=\"skyblue\",\n",
    "           fliersize=2.0, flierprops={\"alpha\": 0.2},\n",
    "           medianprops={\"linewidth\":3}, ax=ax[0])\n",
    "ax[0].set_ylabel(\"paid price [€]\")\n",
    "ax[0].set_title(\"all vehicles\")\n",
    "ax[0].tick_params(labelrotation=90)\n",
    "\n",
    "coord_df = long_df[long_df[\"controlled\"]]\n",
    "coord_df = coord_df[coord_df[\"penetration\"] != \"0%\"]\n",
    "sns.boxplot(coord_df[coord_df[\"value_types\"] == \"paid_price\"], x=\"penetration\", y=\"values\", order=[f\"{x+20}%\" for x in range(0, 100, 20)],\n",
    "           width=0.3, gap=0.2, whis=[5, 95], color=\"skyblue\",\n",
    "           fliersize=2.0, flierprops={\"alpha\": 0.2},\n",
    "           medianprops={\"linewidth\":3}, ax=ax[1])\n",
    "ax[1].set_ylabel(\"\")\n",
    "ax[1].set_title(\"participating vehicles\")\n",
    "ax[1].tick_params(labelrotation=90)\n",
    "\n",
    "coord_df = long_df[~long_df[\"controlled\"]]\n",
    "uncoord_df = long_df[long_df[\"penetration\"] == \"0%\"]\n",
    "sns.boxplot(uncoord_df[uncoord_df[\"value_types\"] == \"paid_price\"], x=\"penetration\", y=\"values\",\n",
    "           width=.3, gap=.2, whis=[5, 95], color=\"lightpink\",\n",
    "           fliersize=2.0, flierprops={\"alpha\": 0.2},\n",
    "           medianprops={\"linewidth\":3}, ax=ax[2])\n",
    "coord_df = coord_df[coord_df[\"penetration\"] != \"0%\"]\n",
    "sns.boxplot(coord_df[coord_df[\"value_types\"] == \"paid_price\"], x=\"penetration\", y=\"values\", order=[f\"{x+20}%\" for x in range(0, 80, 20)],\n",
    "           width=0.3, gap=0.2, whis=[5, 95], color=\"skyblue\",\n",
    "           fliersize=2.0, flierprops={\"alpha\": 0.2},\n",
    "           medianprops={\"linewidth\":3}, ax=ax[2])\n",
    "ax[2].set_ylabel(\"\")\n",
    "ax[2].set_title(\"not participating vehicles\")\n",
    "ax[2].tick_params(labelrotation=90)\n",
    "\n",
    "for axis in range(3):\n",
    "    ax[axis].set_ylim(Y_MIN, Y_MAX)"
   ]
  },
  {
   "cell_type": "markdown",
   "id": "7dba3f13-20b6-480c-9f0e-3c287f8ce46e",
   "metadata": {
    "tags": []
   },
   "source": [
    "## **Traffic flow**"
   ]
  },
  {
   "cell_type": "markdown",
   "id": "1fc9782c-7e9a-4296-bfa1-19b8323379ac",
   "metadata": {
    "tags": []
   },
   "source": [
    "### **Penetration**"
   ]
  },
  {
   "cell_type": "code",
   "execution_count": null,
   "id": "6c1772cd-a8c6-48f3-81f8-6926b3c9d416",
   "metadata": {},
   "outputs": [],
   "source": [
    "mean_hmspeeds = {}\n",
    "for seed in SEEDS:\n",
    "    flow_df = pd.read_xml(f\"{MEAS_ROOT}/ideal{seed}/detector_data.out.xml\", xpath=\"interval\")\n",
    "    mean_hmspeeds[\"100%\"] = flow_df.groupby(\"begin\")[\"flow\"].mean()\n",
    "    \n",
    "for seed in SEEDS:\n",
    "    flow_df = pd.read_xml(f\"{MEAS_ROOT}/baseline{seed}/detector_data.out.xml\", xpath=\"interval\")\n",
    "    mean_hmspeeds[\"unc\"] = flow_df.groupby(\"begin\")[\"flow\"].mean()\n",
    "    \n",
    "for pen in PENS:\n",
    "    for seed in SEEDS:\n",
    "        flow_df = pd.read_xml(f\"{MEAS_ROOT}/pen{pen}:{seed}/detector_data.out.xml\", xpath=\"interval\")\n",
    "        mean_hmspeeds[f\"{10*pen}%\"] = flow_df.groupby(\"begin\")[\"flow\"].mean()"
   ]
  },
  {
   "cell_type": "code",
   "execution_count": null,
   "id": "c416253b-3072-48b8-afb2-79adc18cff69",
   "metadata": {},
   "outputs": [],
   "source": [
    "plt.figure(figsize=(12,3))\n",
    "\n",
    "MARKERS = [\"v\", \"^\", \"<\", \">\", \"8\"]\n",
    "\n",
    "plot_flow = {}\n",
    "for pen in mean_hmspeeds:\n",
    "    plot_flow[pen] = {\n",
    "        \"flow\": [],\n",
    "        \"time\": []\n",
    "    }\n",
    "    for t in mean_hmspeeds[pen].index:\n",
    "        if t<=14400:\n",
    "            plot_flow[pen][\"flow\"].append(mean_hmspeeds[pen][t])\n",
    "            plot_flow[pen][\"time\"].append(t)\n",
    "            \n",
    "            \n",
    "plt.plot(plot_flow[\"unc\"][\"time\"], plot_flow[\"unc\"][\"flow\"], \"--\", color=\"k\", label=\"0%\",\n",
    "         linewidth=2)\n",
    "\n",
    "colors = plt.cm.Blues(np.linspace(0, 1, 8))\n",
    "for i,pen in enumerate(range(0, 100, 20)):\n",
    "    plt.plot(plot_flow[f\"{pen+20}%\"][\"time\"],\n",
    "             plot_flow[f\"{pen+20}%\"][\"flow\"],\n",
    "             label=f\"{pen+20}%\", color=colors[i+2], marker = MARKERS[i],\n",
    "             linewidth=2)\n",
    "    \n",
    "plt.legend(title=\"penetration\", ncols=2)\n",
    "plt.xlabel(\"simulation time [s]\")\n",
    "plt.ylabel(\"average traffic flow [veh/h]\")\n",
    "plt.ylim(90,165)"
   ]
  },
  {
   "cell_type": "markdown",
   "id": "b0316765-99fb-4322-a30d-ca42ed5a6d86",
   "metadata": {
    "tags": []
   },
   "source": [
    "## **Parking lot usage**"
   ]
  },
  {
   "cell_type": "markdown",
   "id": "24d6affa-060c-42e6-9f48-4b17bffb296e",
   "metadata": {},
   "source": [
    "## **Parking occupancy trends**"
   ]
  },
  {
   "cell_type": "code",
   "execution_count": null,
   "id": "388d6358-c4ac-4410-86b3-69236e299728",
   "metadata": {},
   "outputs": [],
   "source": [
    "def get_distance_line_model(edge_id):\n",
    "    row_distance_1 = max(ord('C') - ord(edge_id[0]),\n",
    "                         ord(edge_id[0]) - ord('D'))\n",
    "    row_distance_2 = max(ord('C') - ord(edge_id[2]),\n",
    "                         ord(edge_id[2]) - ord('D'))\n",
    "    row_distance = max(row_distance_1, row_distance_2)\n",
    "    \n",
    "    column_distance_1 = max((2 - int(edge_id[1])),\n",
    "                            (int(edge_id[1]) - 3))\n",
    "    column_distance_2 = max((2 - int(edge_id[3])),\n",
    "                            (int(edge_id[3]) - 3))\n",
    "    column_distance = max(column_distance_1, column_distance_2)\n",
    "    \n",
    "    return np.round(np.sqrt((row_distance*100)**2 + (column_distance*100)**2), decimals=0)"
   ]
  },
  {
   "cell_type": "code",
   "execution_count": null,
   "id": "cfbabe0d-7bd1-4c86-99f0-47691545b860",
   "metadata": {},
   "outputs": [],
   "source": [
    "def compute_line_occups(occup_df):\n",
    "    mean_occups = occup_df.groupby(\"parking_id\")[\"occupancy\"].mean()\n",
    "    distances = []\n",
    "    occupancies = []\n",
    "\n",
    "    for i in mean_occups.index:\n",
    "        dist = get_distance_line_model(i[2:])\n",
    "        distances.append(dist)\n",
    "        occupancies.append(mean_occups[i])\n",
    "\n",
    "    occup_df = pd.DataFrame()\n",
    "    occup_df[\"distance\"] = distances\n",
    "    occup_df[\"occupancy\"] = occupancies\n",
    "    return occup_df"
   ]
  },
  {
   "cell_type": "markdown",
   "id": "eb8f85c2-5e75-4bfc-905a-9b0b94ef3bbe",
   "metadata": {},
   "source": [
    "### **Penetrations**"
   ]
  },
  {
   "cell_type": "code",
   "execution_count": null,
   "id": "570906e4-254e-437a-9cdb-6108e67e9f67",
   "metadata": {},
   "outputs": [],
   "source": [
    "line_occups = pd.DataFrame()\n",
    "for seed in SEEDS:\n",
    "    occup_df = pd.read_csv(f\"{MEAS_ROOT}/ideal{seed}/occupancy.csv\")\n",
    "    occup_df = compute_line_occups(occup_df)\n",
    "    occup_df[\"penetration\"] = [\"100%\"]*len(occup_df)\n",
    "    line_occups = pd.concat([line_occups, occup_df])\n",
    "    \n",
    "for seed in SEEDS:\n",
    "    occup_df = pd.read_csv(f\"{MEAS_ROOT}/baseline{seed}/occupancy.csv\")\n",
    "    occup_df = compute_line_occups(occup_df)\n",
    "    occup_df[\"penetration\"] = [\"0%\"]*len(occup_df)\n",
    "    line_occups = pd.concat([line_occups, occup_df])\n",
    "    \n",
    "for pen in PENS:\n",
    "    for seed in SEEDS:\n",
    "        occup_df = pd.read_csv(f\"{MEAS_ROOT}/pen{pen}:{seed}/occupancy.csv\")\n",
    "        occup_df = compute_line_occups(occup_df)\n",
    "        occup_df[\"penetration\"] = [f\"{10*pen}%\"]*len(occup_df)\n",
    "        line_occups = pd.concat([line_occups, occup_df])"
   ]
  },
  {
   "cell_type": "code",
   "execution_count": null,
   "id": "017d369e-abf9-4023-8727-c30c6a456376",
   "metadata": {},
   "outputs": [],
   "source": [
    "plt.figure(figsize=(12, 6))\n",
    "sns.boxplot(line_occups, x=\"distance\", y=\"occupancy\", hue=\"penetration\",\n",
    "            #hue_order=[\"unc\", \"10%\", \"20%\", \"30%\", \"40%\", \"50%\", \"60%\",\n",
    "            #           \"70%\", \"80%\", \"90%\", \"100%\"],\n",
    "            hue_order=[\"0%\", \"20%\", \"40%\", \"60%\",\n",
    "                       \"80%\", \"100%\"],\n",
    "            width=.66, gap=0.33, whis=[1, 99],\n",
    "            fliersize=2.0, flierprops={\"alpha\": 0.2},\n",
    "            medianprops={\"linewidth\":3, \"color\":\"firebrick\"},\n",
    "            palette=\"Blues\")\n",
    "plt.xlabel(\"distance of parking lots\\nfrom the center [m]\")\n",
    "plt.legend(loc=\"lower right\", ncols=2, title=\"penetration\")"
   ]
  }
 ],
 "metadata": {
  "kernelspec": {
   "display_name": "Python 3 (ipykernel)",
   "language": "python",
   "name": "python3"
  },
  "language_info": {
   "codemirror_mode": {
    "name": "ipython",
    "version": 3
   },
   "file_extension": ".py",
   "mimetype": "text/x-python",
   "name": "python",
   "nbconvert_exporter": "python",
   "pygments_lexer": "ipython3",
   "version": "3.9.17"
  }
 },
 "nbformat": 4,
 "nbformat_minor": 5
}
