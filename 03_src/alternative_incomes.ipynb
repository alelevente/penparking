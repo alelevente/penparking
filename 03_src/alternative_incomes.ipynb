{
 "cells": [
  {
   "cell_type": "markdown",
   "id": "f18364ab-3634-4151-844d-aab9c1d44d7e",
   "metadata": {},
   "source": [
    "# **Homogeneous parking prices**"
   ]
  },
  {
   "cell_type": "code",
   "execution_count": null,
   "id": "bdd9f223-056d-4f38-a085-4b2773a7b477",
   "metadata": {},
   "outputs": [],
   "source": [
    "import json"
   ]
  },
  {
   "cell_type": "code",
   "execution_count": null,
   "id": "d50d4274-df66-4481-9cec-daa6e4fb8400",
   "metadata": {},
   "outputs": [],
   "source": [
    "with open(\"../02_data/starting_prices.json\") as f:\n",
    "    starting_prices = json.load(f)"
   ]
  },
  {
   "cell_type": "code",
   "execution_count": null,
   "id": "590818d4-c3f3-4c44-81e5-6fc54d1771ed",
   "metadata": {},
   "outputs": [],
   "source": [
    "for p in starting_prices:\n",
    "    starting_prices[p] = 200"
   ]
  },
  {
   "cell_type": "code",
   "execution_count": null,
   "id": "5a6b5451-d480-4cf5-9ec9-cfcd32dd463c",
   "metadata": {},
   "outputs": [],
   "source": [
    "with open(\"../02_data/starting_prices.json\", \"w\") as f:\n",
    "    json.dump(starting_prices, f)"
   ]
  },
  {
   "cell_type": "markdown",
   "id": "de367b83-8a19-4d6e-bca7-337b87c57f64",
   "metadata": {
    "tags": []
   },
   "source": [
    "## Results"
   ]
  },
  {
   "cell_type": "code",
   "execution_count": null,
   "id": "436668fe-73c3-46e5-832f-10d473517322",
   "metadata": {},
   "outputs": [],
   "source": [
    "import json\n",
    "\n",
    "import numpy as np\n",
    "import pandas as pd\n",
    "\n",
    "import matplotlib.pyplot as plt\n",
    "import seaborn as sns"
   ]
  },
  {
   "cell_type": "code",
   "execution_count": null,
   "id": "01aed513-01db-456e-9a43-016ad7700a66",
   "metadata": {},
   "outputs": [],
   "source": [
    "MEAS_ROOT = \"../02_data/\"\n",
    "SEEDS = [42, 1812, 9698, 424, 820, 75, 98, 65535, 16383, 513]\n",
    "PENS = [1, 2, 3, 4, 5, 6, 7, 8, 9]\n",
    "EPSILON = 10"
   ]
  },
  {
   "cell_type": "code",
   "execution_count": null,
   "id": "4a6948ea-51ae-456b-a845-bd090183b440",
   "metadata": {},
   "outputs": [],
   "source": [
    "EUR_HUF = 411.43 #2024-11-24"
   ]
  },
  {
   "cell_type": "code",
   "execution_count": null,
   "id": "cdd14355-8e91-411b-be51-4ec23da64354",
   "metadata": {},
   "outputs": [],
   "source": [
    "def read_data(seed, meas_path, col_name, col_value):\n",
    "    with open(f\"{meas_path}/veh_results.json\") as f:\n",
    "        veh_res = json.load(f)\n",
    "    veh_data = pd.DataFrame.from_dict(veh_res, orient=\"index\")\n",
    "    veh_data.index = veh_data.index.astype(int)\n",
    "    \n",
    "    trip_df = pd.read_xml(f\"{meas_path}/vehicle_trips.xml\", xpath = \"tripinfo\")\n",
    "    trip_df[\"id\"] = trip_df[\"id\"].astype(int)\n",
    "    \n",
    "    vd = pd.merge(left=trip_df, right=veh_data, left_on=\"id\", right_index=True)\n",
    "    \n",
    "    vd[col_name] = [col_value]*len(vd)\n",
    "    \n",
    "    return vd"
   ]
  },
  {
   "cell_type": "code",
   "execution_count": null,
   "id": "de5cc31c-8818-40c0-9529-31d865980e02",
   "metadata": {},
   "outputs": [],
   "source": [
    "#read penetration data:\n",
    "\n",
    "penetration_df = pd.DataFrame()\n",
    "\n",
    "for seed in SEEDS:\n",
    "    penetration_df = pd.concat([penetration_df,\n",
    "                            read_data(seed, f\"{MEAS_ROOT}/ideal{seed}/\", \"penetration\", \"100%\")\n",
    "                           ], ignore_index=True)\n",
    "    \n",
    "for seed in SEEDS:\n",
    "    penetration_df = pd.concat([penetration_df,\n",
    "                            read_data(seed, f\"{MEAS_ROOT}/baseline{seed}/\", \"penetration\", \"0%\")\n",
    "                           ], ignore_index=True)\n",
    "    \n",
    "for seed in SEEDS:\n",
    "    info_df = read_data(seed, f\"{MEAS_ROOT}/information{seed}/\", \"penetration\", \"info.\")\n",
    "    info_df[\"controlled\"] = False\n",
    "    info_df[\"paid_price\"] = info_df[\"parking_price\"]\n",
    "    penetration_df = pd.concat([penetration_df, info_df], ignore_index=True)\n",
    "    \n",
    "for pen in PENS:\n",
    "    for seed in SEEDS:\n",
    "        penetration_df = pd.concat([penetration_df,\n",
    "                                read_data(seed, f\"{MEAS_ROOT}/pen{pen}:{seed}/\", \"penetration\", f\"{pen*10}%\")\n",
    "                               ], ignore_index=True)"
   ]
  },
  {
   "cell_type": "code",
   "execution_count": null,
   "id": "58da50df-c04d-482f-ae44-4c10e1826ef5",
   "metadata": {},
   "outputs": [],
   "source": [
    "penetration_df[\"prolonged_distance\"] = penetration_df[\"routeLength\"] - penetration_df[\"original_distance\"]\n",
    "\n",
    "penetration_df[\"paid_price\"] = penetration_df[\"paid_price\"]/EUR_HUF\n",
    "penetration_df[\"auction_price\"] = penetration_df[\"auction_price\"]/EUR_HUF"
   ]
  },
  {
   "cell_type": "code",
   "execution_count": null,
   "id": "132865cd-8067-4a74-bb2e-a3117729c414",
   "metadata": {},
   "outputs": [],
   "source": [
    "labels = [\"0%\", \"info.\"] + [f\"{i}%\" for i in range(10, 110, 10)]"
   ]
  },
  {
   "cell_type": "code",
   "execution_count": null,
   "id": "1015e552-e5d1-4953-a28e-d30fa3119664",
   "metadata": {},
   "outputs": [],
   "source": [
    "values = []\n",
    "value_types = []\n",
    "pens = []\n",
    "controlled = []\n",
    "\n",
    "for _,r in penetration_df.iterrows():\n",
    "    values.append(r[\"rerouteNo\"])\n",
    "    value_types.append(\"n_reroutes\")\n",
    "    controlled.append(r[\"controlled\"])\n",
    "    pens.append(r[\"penetration\"])\n",
    "    \n",
    "    values.append(r[\"routeLength\"])\n",
    "    value_types.append(\"distance\")\n",
    "    controlled.append(r[\"controlled\"])\n",
    "    pens.append(r[\"penetration\"])\n",
    "    \n",
    "    values.append(r[\"prolonged_distance\"])\n",
    "    value_types.append(\"prolonged_distance\")\n",
    "    controlled.append(r[\"controlled\"])\n",
    "    pens.append(r[\"penetration\"])\n",
    "    \n",
    "    values.append(r[\"parking_distance\"])\n",
    "    value_types.append(\"parking_distance\")\n",
    "    controlled.append(r[\"controlled\"])\n",
    "    pens.append(r[\"penetration\"])\n",
    "    \n",
    "    values.append(r[\"paid_price\"])\n",
    "    value_types.append(\"paid_price\")\n",
    "    controlled.append(r[\"controlled\"])\n",
    "    pens.append(r[\"penetration\"])\n",
    "    \n",
    "    values.append(r[\"auction_price\"])\n",
    "    value_types.append(\"auction_price\")\n",
    "    controlled.append(r[\"controlled\"])\n",
    "    pens.append(r[\"penetration\"])\n",
    "    \n",
    "    values.append(r[\"occupied_reserved\"])\n",
    "    value_types.append(\"occupied_reserved\")\n",
    "    controlled.append(r[\"controlled\"])\n",
    "    pens.append(r[\"penetration\"])\n",
    "    \n",
    "long_df = pd.DataFrame()\n",
    "long_df[\"values\"] = values\n",
    "long_df[\"value_types\"] = value_types\n",
    "long_df[\"controlled\"] = controlled\n",
    "long_df[\"penetration\"] = pens"
   ]
  },
  {
   "cell_type": "code",
   "execution_count": null,
   "id": "11cdb3ce-468e-4c4d-bae8-6772fd727b1a",
   "metadata": {},
   "outputs": [],
   "source": [
    "total_parking_prices = []\n",
    "participating_parking_prices = []\n",
    "not_participating_parking_prices = []\n",
    "\n",
    "for pen in labels:\n",
    "    df_filt = long_df[long_df[\"penetration\"] == pen]\n",
    "    pp = df_filt[df_filt[\"value_types\"] == \"paid_price\"]\n",
    "    total_parking_prices.append(pp[\"values\"].sum())\n",
    "    participating_parking_prices.append(pp[pp[\"controlled\"] == True][\"values\"].sum())\n",
    "    not_participating_parking_prices.append(pp[pp[\"controlled\"] == False][\"values\"].sum())"
   ]
  },
  {
   "cell_type": "code",
   "execution_count": null,
   "id": "d4996294-7424-46ad-952b-b53c60566411",
   "metadata": {},
   "outputs": [],
   "source": [
    "total_parking_prices = np.array(total_parking_prices)/10\n",
    "participating_parking_prices = np.array(participating_parking_prices)/10\n",
    "not_participating_parking_prices = np.array(not_participating_parking_prices)/10\n",
    "\n",
    "participating_parking_prices[participating_parking_prices == 0] = None\n",
    "not_participating_parking_prices[not_participating_parking_prices == 0] = None"
   ]
  },
  {
   "cell_type": "code",
   "execution_count": null,
   "id": "70c1627d-0f9f-40d3-82a0-9d5c84ca6f1d",
   "metadata": {},
   "outputs": [],
   "source": [
    "plt.figure(figsize=(12,4))\n",
    "\n",
    "plt.hlines(y=max(total_parking_prices), xmin=0, xmax=len(labels)-1, linestyle=\"--\", color=\"k\", alpha=.33)\n",
    "plt.hlines(y=min(total_parking_prices), xmin=0, xmax=len(labels)-1, linestyle=\"--\", color=\"k\", alpha=.33,\n",
    "           label=\"revenue limits\")\n",
    "\n",
    "plt.plot(labels, total_parking_prices, label=\"all vehicles\", linewidth=2)\n",
    "plt.scatter(labels, total_parking_prices)\n",
    "plt.plot(labels, participating_parking_prices, label=\"participating vehicles\", linewidth=2)\n",
    "plt.scatter(labels, participating_parking_prices)\n",
    "plt.plot(labels, not_participating_parking_prices, label=\"not particpating vehicles\", linewidth=2)\n",
    "plt.scatter(labels, not_participating_parking_prices)\n",
    "\n",
    "plt.xlabel(\"penetration\")\n",
    "plt.ylabel(\"total revenue [€]\")\n",
    "plt.legend()"
   ]
  },
  {
   "cell_type": "code",
   "execution_count": null,
   "id": "703d1cc9-94cf-4e1d-b42b-f3973fd83ce9",
   "metadata": {},
   "outputs": [],
   "source": [
    "plt.plot(labels, total_parking_prices)"
   ]
  },
  {
   "cell_type": "code",
   "execution_count": null,
   "id": "5534c6c0-0bb8-4c5a-b1c8-77053089cf68",
   "metadata": {},
   "outputs": [],
   "source": [
    "total_parking_prices_reflective = [6901.27117615, 6888.19483266, 6817.98118757, 6692.97328829,\n",
    "       6534.12731206, 6332.76863622, 6118.2922976 , 5918.1683397 ,\n",
    "       5726.6339353 , 5573.07926014, 5501.24687067, 5534.70335173]"
   ]
  },
  {
   "cell_type": "code",
   "execution_count": null,
   "id": "b2912ac4-e710-4d38-969f-27c8f9496a93",
   "metadata": {},
   "outputs": [],
   "source": [
    "plt.figure(figsize=(12, 4))\n",
    "plt.plot(labels, total_parking_prices, label=\"homogeneous\", linewidth=2)\n",
    "plt.scatter(labels, total_parking_prices)\n",
    "plt.plot(labels, total_parking_prices_reflective, label=\"demand-driven\", linewidth=2)\n",
    "plt.scatter(labels, total_parking_prices_reflective)\n",
    "plt.legend(title=\"starting prices\")\n",
    "plt.xlabel(\"penetration\")\n",
    "plt.ylabel(\"total revenue [€]\")"
   ]
  }
 ],
 "metadata": {
  "kernelspec": {
   "display_name": "Python 3 (ipykernel)",
   "language": "python",
   "name": "python3"
  },
  "language_info": {
   "codemirror_mode": {
    "name": "ipython",
    "version": 3
   },
   "file_extension": ".py",
   "mimetype": "text/x-python",
   "name": "python",
   "nbconvert_exporter": "python",
   "pygments_lexer": "ipython3",
   "version": "3.8.18"
  }
 },
 "nbformat": 4,
 "nbformat_minor": 5
}
