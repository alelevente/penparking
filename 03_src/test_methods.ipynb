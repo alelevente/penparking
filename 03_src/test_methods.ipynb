{
 "cells": [
  {
   "cell_type": "code",
   "execution_count": 1,
   "id": "4825c029-8588-4c78-8064-73374ae04f20",
   "metadata": {},
   "outputs": [],
   "source": [
    "import numpy as np\n",
    "import pandas as pd"
   ]
  },
  {
   "cell_type": "code",
   "execution_count": 2,
   "id": "e11c4d46-0ae7-4a40-85e9-9d745dddb1d8",
   "metadata": {},
   "outputs": [],
   "source": [
    "adict = {\"a\": 3,\n",
    " \"b\": 1,\n",
    " \"c\": 4}\n",
    "\n",
    "bdict = {\n",
    "    \"a\": 1,\n",
    "    \"b\": 0,\n",
    "    \"c\": 15}"
   ]
  },
  {
   "cell_type": "code",
   "execution_count": 3,
   "id": "a83bfa90-7969-4fae-8e6a-f786a99ee950",
   "metadata": {},
   "outputs": [],
   "source": [
    "aseries = pd.Series(adict)"
   ]
  },
  {
   "cell_type": "code",
   "execution_count": 14,
   "id": "e0828db2-9db3-4bd8-979d-93fea6b422aa",
   "metadata": {},
   "outputs": [],
   "source": [
    "sorted_aseres = aseries.sort_values()"
   ]
  },
  {
   "cell_type": "code",
   "execution_count": 15,
   "id": "a93bb44d-023d-43b7-928b-d34c6c88f854",
   "metadata": {},
   "outputs": [
    {
     "data": {
      "text/plain": [
       "b    0\n",
       "a    3\n",
       "c    4\n",
       "dtype: int64"
      ]
     },
     "execution_count": 15,
     "metadata": {},
     "output_type": "execute_result"
    }
   ],
   "source": [
    "sorted_aseres"
   ]
  },
  {
   "cell_type": "code",
   "execution_count": 22,
   "id": "376ca2bd-ce78-4a81-8958-3887acaf1878",
   "metadata": {},
   "outputs": [],
   "source": [
    "i = 0\n",
    "while (bdict[sorted_aseres.keys()[i]] == 0) and i<len(sorted_aseres.keys()):\n",
    "    i+=1"
   ]
  },
  {
   "cell_type": "code",
   "execution_count": 23,
   "id": "1ab16af5-bb6e-46bf-8e90-83fc46e8e21f",
   "metadata": {},
   "outputs": [
    {
     "data": {
      "text/plain": [
       "'a'"
      ]
     },
     "execution_count": 23,
     "metadata": {},
     "output_type": "execute_result"
    }
   ],
   "source": [
    "sorted_aseres.keys()[i]"
   ]
  }
 ],
 "metadata": {
  "kernelspec": {
   "display_name": "Python 3 (ipykernel)",
   "language": "python",
   "name": "python3"
  },
  "language_info": {
   "codemirror_mode": {
    "name": "ipython",
    "version": 3
   },
   "file_extension": ".py",
   "mimetype": "text/x-python",
   "name": "python",
   "nbconvert_exporter": "python",
   "pygments_lexer": "ipython3",
   "version": "3.9.17"
  }
 },
 "nbformat": 4,
 "nbformat_minor": 5
}
